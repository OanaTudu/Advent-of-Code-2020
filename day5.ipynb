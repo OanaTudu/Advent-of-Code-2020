{
 "cells": [
  {
   "cell_type": "raw",
   "metadata": {},
   "source": [
    "--- Day 5: Binary Boarding ---\n",
    "\n",
    "You board your plane only to discover a new problem: you dropped your boarding pass! You aren't sure which seat is yours, and all of the flight attendants are busy with the flood of people that suddenly made it through passport control.\n",
    "\n",
    "You write a quick program to use your phone's camera to scan all of the nearby boarding passes (your puzzle input); perhaps you can find your seat through process of elimination.\n",
    "\n",
    "Instead of zones or groups, this airline uses binary space partitioning to seat people. A seat might be specified like FBFBBFFRLR, where F means \"front\", B means \"back\", L means \"left\", and R means \"right\".\n",
    "\n",
    "The first 7 characters will either be F or B; these specify exactly one of the 128 rows on the plane (numbered 0 through 127). Each letter tells you which half of a region the given seat is in. Start with the whole list of rows; the first letter indicates whether the seat is in the front (0 through 63) or the back (64 through 127). The next letter indicates which half of that region the seat is in, and so on until you're left with exactly one row.\n",
    "\n",
    "For example, consider just the first seven characters of FBFBBFFRLR:\n",
    "\n",
    "    Start by considering the whole range, rows 0 through 127.\n",
    "    F means to take the lower half, keeping rows 0 through 63.\n",
    "    B means to take the upper half, keeping rows 32 through 63.\n",
    "    F means to take the lower half, keeping rows 32 through 47.\n",
    "    B means to take the upper half, keeping rows 40 through 47.\n",
    "    B keeps rows 44 through 47.\n",
    "    F keeps rows 44 through 45.\n",
    "    The final F keeps the lower of the two, row 44.\n",
    "\n",
    "The last three characters will be either L or R; these specify exactly one of the 8 columns of seats on the plane (numbered 0 through 7). The same process as above proceeds again, this time with only three steps. L means to keep the lower half, while R means to keep the upper half.\n",
    "\n",
    "For example, consider just the last 3 characters of FBFBBFFRLR:\n",
    "\n",
    "    Start by considering the whole range, columns 0 through 7.\n",
    "    R means to take the upper half, keeping columns 4 through 7.\n",
    "    L means to take the lower half, keeping columns 4 through 5.\n",
    "    The final R keeps the upper of the two, column 5.\n",
    "\n",
    "So, decoding FBFBBFFRLR reveals that it is the seat at row 44, column 5.\n",
    "\n",
    "Every seat also has a unique seat ID: multiply the row by 8, then add the column. In this example, the seat has ID 44 * 8 + 5 = 357.\n",
    "\n",
    "Here are some other boarding passes:\n",
    "\n",
    "    BFFFBBFRRR: row 70, column 7, seat ID 567.\n",
    "    FFFBBBFRRR: row 14, column 7, seat ID 119.\n",
    "    BBFFBBFRLL: row 102, column 4, seat ID 820.\n",
    "\n",
    "As a sanity check, look through your list of boarding passes. What is the highest seat ID on a boarding pass?\n"
   ]
  },
  {
   "cell_type": "code",
   "execution_count": 151,
   "metadata": {},
   "outputs": [],
   "source": [
    "import pandas as pd\n",
    "import math\n",
    "import re\n",
    "file1 = open(\"input5.txt\",\"r+\")  \n",
    "text = file1.read() \n",
    "file1.close() "
   ]
  },
  {
   "cell_type": "code",
   "execution_count": 166,
   "metadata": {},
   "outputs": [],
   "source": [
    "inp = text.split('\\n')\n",
    "test = ['FBFBBFFRLR', 'BFFFBBFRRR', 'FFFBBBFRRR', 'BBFFBBFRLL']\n"
   ]
  },
  {
   "cell_type": "code",
   "execution_count": 179,
   "metadata": {},
   "outputs": [],
   "source": [
    "def get_seat(s):\n",
    "    \"\"\"function to apply the algorithm to extract the row and col of a seat\"\"\"\n",
    "    low = 0\n",
    "    high = 127\n",
    "    for c in s[:7]:\n",
    "        half = (high+1-low)/2\n",
    "        if c == 'F':\n",
    "            low = low\n",
    "            high = low + half - 1\n",
    "            \n",
    "        elif c == 'B':\n",
    "            high = high\n",
    "            low = high - half + 1\n",
    "    #print(c)\n",
    "    if c == 'F':        \n",
    "        row = int(min(high, low))\n",
    "    else:\n",
    "        row = int(max(high, low))\n",
    "    low = 0\n",
    "    high = 7\n",
    "    for c in s[7:]:\n",
    "        half = (high+1-low)/2\n",
    "        if c == 'L':\n",
    "            low = low\n",
    "            high = low + half - 1\n",
    "            \n",
    "        elif c == 'R':\n",
    "            high = high\n",
    "            low = high - half + 1\n",
    "            \n",
    "    if c == 'L':        \n",
    "        col = int(min(high, low))\n",
    "    else:\n",
    "        col = int(max(high, low))\n",
    "    \n",
    "    return row*8 + col"
   ]
  },
  {
   "cell_type": "code",
   "execution_count": 180,
   "metadata": {},
   "outputs": [
    {
     "name": "stdout",
     "output_type": "stream",
     "text": [
      "357\n",
      "567\n",
      "119\n",
      "820\n"
     ]
    }
   ],
   "source": [
    "for t in test:\n",
    "    print(get_seat(t))"
   ]
  },
  {
   "cell_type": "code",
   "execution_count": 181,
   "metadata": {},
   "outputs": [
    {
     "data": {
      "text/plain": [
       "835"
      ]
     },
     "execution_count": 181,
     "metadata": {},
     "output_type": "execute_result"
    }
   ],
   "source": [
    "max_seat_id = 0\n",
    "seats = []\n",
    "for seat in inp:\n",
    "    seats.append(get_seat(seat))\n",
    "max(seats)"
   ]
  },
  {
   "cell_type": "raw",
   "metadata": {},
   "source": [
    "--- Part Two ---\n",
    "\n",
    "Ding! The \"fasten seat belt\" signs have turned on. Time to find your seat.\n",
    "\n",
    "It's a completely full flight, so your seat should be the only missing boarding pass in your list. However, there's a catch: some of the seats at the very front and back of the plane don't exist on this aircraft, so they'll be missing from your list as well.\n",
    "\n",
    "Your seat wasn't at the very front or back, though; the seats with IDs +1 and -1 from yours will be in your list."
   ]
  },
  {
   "cell_type": "code",
   "execution_count": 182,
   "metadata": {},
   "outputs": [
    {
     "name": "stdout",
     "output_type": "stream",
     "text": [
      "824\n",
      "824\n"
     ]
    }
   ],
   "source": [
    "print(len(seats))\n",
    "print(len(set(seats)))"
   ]
  },
  {
   "cell_type": "code",
   "execution_count": 184,
   "metadata": {},
   "outputs": [
    {
     "name": "stdout",
     "output_type": "stream",
     "text": [
      "[41, 665, 779, 324, 583, 677, 122, 528, 49, 807, 434, 659, 288, 69, 89, 802, 29, 601, 251, 409, 25, 397, 183, 386, 177, 758, 57, 132, 202, 797, 436, 471, 509, 734, 485, 344, 394, 628, 152, 12, 597, 446, 673, 684, 370, 277, 510, 712, 523, 578, 456, 675, 678, 451, 204, 643, 54, 50, 623, 367, 145, 538, 419, 592, 599, 460, 286, 806, 817, 796, 74, 783, 365, 721, 133, 399, 64, 196, 491, 549, 110, 312, 307, 589, 493, 759, 433, 475, 547, 243, 327, 402, 384, 574, 224, 114, 410, 516, 735, 498, 131, 311, 220, 297, 200, 280, 361, 593, 353, 686, 670, 146, 418, 287, 645, 835, 706, 171, 570, 427, 413, 750, 478, 688, 218, 464, 585, 93, 339, 828, 731, 660, 500, 271, 72, 73, 540, 443, 571, 732, 360, 223, 814, 259, 214, 663, 181, 744, 428, 671, 616, 791, 70, 100, 533, 598, 257, 15, 771, 332, 168, 294, 452, 542, 541, 36, 778, 800, 304, 80, 650, 517, 761, 495, 27, 285, 319, 658, 782, 121, 520, 579, 258, 97, 739, 207, 46, 440, 666, 692, 631, 566, 56, 513, 203, 667, 347, 651, 467, 205, 639, 59, 826, 470, 178, 239, 84, 264, 313, 176, 612, 22, 442, 459, 572, 261, 737, 831, 644, 819, 809, 390, 726, 315, 716, 822, 815, 82, 260, 560, 403, 383, 309, 455, 567, 172, 683, 824, 636, 337, 505, 668, 329, 619, 576, 437, 81, 618, 61, 141, 772, 627, 821, 263, 429, 68, 711, 30, 396, 501, 752, 270, 773, 95, 743, 680, 40, 331, 546, 35, 447, 699, 605, 691, 101, 637, 330, 116, 703, 94, 188, 378, 613, 553, 635, 144, 187, 563, 818, 395, 112, 441, 530, 595, 392, 695, 98, 414, 326, 289, 733, 676, 155, 310, 325, 348, 234, 278, 590, 252, 123, 39, 492, 787, 335, 231, 407, 679, 111, 416, 192, 75, 127, 292, 328, 71, 482, 710, 736, 705, 559, 53, 527, 624, 279, 266, 128, 689, 483, 236, 780, 723, 811, 823, 561, 228, 161, 140, 96, 751, 77, 799, 190, 156, 115, 753, 648, 825, 611, 299, 160, 120, 58, 801, 693, 532, 543, 273, 565, 412, 511, 163, 137, 60, 117, 374, 557, 63, 65, 406, 508, 458, 582, 377, 362, 521, 749, 591, 303, 816, 368, 250, 432, 453, 334, 411, 474, 629, 52, 555, 502, 321, 225, 765, 730, 476, 317, 308, 652, 472, 786, 301, 340, 238, 142, 672, 158, 729, 717, 512, 382, 704, 19, 785, 139, 253, 698, 526, 195, 777, 449, 401, 404, 284, 135, 803, 603, 232, 754, 784, 439, 194, 435, 581, 212, 338, 694, 37, 518, 28, 333, 357, 55, 380, 125, 417, 118, 642, 229, 681, 42, 322, 724, 489, 381, 106, 282, 262, 241, 108, 341, 103, 794, 632, 834, 306, 515, 198, 31, 551, 775, 790, 465, 633, 13, 479, 143, 586, 662, 349, 90, 741, 300, 24, 38, 244, 463, 776, 708, 654, 444, 213, 87, 608, 630, 646, 346, 359, 373, 184, 113, 173, 364, 430, 503, 494, 558, 32, 720, 792, 379, 638, 269, 318, 67, 387, 587, 175, 363, 531, 714, 249, 473, 99, 130, 211, 376, 398, 83, 545, 656, 647, 11, 298, 423, 314, 296, 165, 191, 745, 227, 497, 594, 626, 138, 832, 499, 164, 45, 445, 124, 701, 48, 420, 167, 415, 718, 740, 525, 293, 174, 829, 162, 85, 833, 408, 552, 609, 614, 764, 757, 522, 438, 424, 607, 226, 805, 393, 389, 490, 536, 153, 366, 575, 385, 354, 242, 17, 514, 550, 422, 768, 23, 457, 588, 276, 88, 697, 488, 682, 580, 722, 391, 245, 222, 674, 481, 351, 169, 584, 179, 154, 193, 808, 342, 159, 519, 702, 185, 182, 237, 281, 215, 256, 14, 246, 316, 762, 210, 812, 105, 774, 149, 596, 763, 157, 544, 748, 405, 186, 789, 534, 770, 664, 33, 290, 562, 715, 34, 26, 755, 766, 548, 700, 661, 47, 600, 727, 350, 150, 426, 129, 535, 524, 233, 147, 166, 606, 781, 450, 323, 568, 16, 742, 320, 696, 760, 201, 388, 655, 577, 371, 448, 461, 504, 640, 621, 793, 719, 604, 747, 529, 487, 267, 728, 343, 119, 197, 506, 79, 539, 345, 217, 462, 265, 602, 91, 690, 617, 685, 569, 51, 431, 305, 798, 336, 126, 469, 625, 746, 738, 622, 92, 634, 109, 170, 537, 21, 44, 283, 486, 615, 767, 148, 810, 18, 713, 466, 564, 657, 189, 610, 86, 709, 641, 134, 820, 827, 66, 356, 477, 425, 136, 274, 507, 247, 687, 291, 707, 813, 240, 830, 78, 573, 209, 295, 20, 358, 219, 769, 199, 104, 369, 62, 669, 375, 230, 102, 355, 302, 795, 254, 372, 653, 352, 756, 480, 268, 208, 275, 76, 235, 206, 216, 221, 43, 725, 556, 788, 107, 421, 454, 255, 468, 484, 180, 620, 151, 248, 554, 496, 400, 804, 272]\n"
     ]
    }
   ],
   "source": [
    "print(seats)\n",
    "all_seats = []\n",
    "for i in np.arange(0,127):\n",
    "    for j in np.arange(0,7):\n",
    "        all_seats.append(i*8+j)"
   ]
  },
  {
   "cell_type": "code",
   "execution_count": 187,
   "metadata": {},
   "outputs": [],
   "source": [
    "missing_seats = [ele for ele in all_seats if ele not in seats and ele < 835 and ele > 10] "
   ]
  },
  {
   "cell_type": "code",
   "execution_count": 188,
   "metadata": {},
   "outputs": [
    {
     "data": {
      "text/plain": [
       "[649]"
      ]
     },
     "execution_count": 188,
     "metadata": {},
     "output_type": "execute_result"
    }
   ],
   "source": [
    "missing_seats"
   ]
  },
  {
   "cell_type": "code",
   "execution_count": null,
   "metadata": {},
   "outputs": [],
   "source": []
  },
  {
   "cell_type": "code",
   "execution_count": null,
   "metadata": {},
   "outputs": [],
   "source": []
  }
 ],
 "metadata": {
  "kernelspec": {
   "display_name": "Python 3",
   "language": "python",
   "name": "python3"
  },
  "language_info": {
   "codemirror_mode": {
    "name": "ipython",
    "version": 3
   },
   "file_extension": ".py",
   "mimetype": "text/x-python",
   "name": "python",
   "nbconvert_exporter": "python",
   "pygments_lexer": "ipython3",
   "version": "3.7.2"
  }
 },
 "nbformat": 4,
 "nbformat_minor": 2
}
