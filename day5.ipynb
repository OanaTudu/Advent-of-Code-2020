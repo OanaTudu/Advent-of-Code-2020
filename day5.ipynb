{
 "cells": [
  {
   "cell_type": "raw",
   "metadata": {},
   "source": [
    "--- Day 5: Binary Boarding ---\n",
    "\n",
    "You board your plane only to discover a new problem: you dropped your boarding pass! You aren't sure which seat is yours, and all of the flight attendants are busy with the flood of people that suddenly made it through passport control.\n",
    "\n",
    "You write a quick program to use your phone's camera to scan all of the nearby boarding passes (your puzzle input); perhaps you can find your seat through process of elimination.\n",
    "\n",
    "Instead of zones or groups, this airline uses binary space partitioning to seat people. A seat might be specified like FBFBBFFRLR, where F means \"front\", B means \"back\", L means \"left\", and R means \"right\".\n",
    "\n",
    "The first 7 characters will either be F or B; these specify exactly one of the 128 rows on the plane (numbered 0 through 127). Each letter tells you which half of a region the given seat is in. Start with the whole list of rows; the first letter indicates whether the seat is in the front (0 through 63) or the back (64 through 127). The next letter indicates which half of that region the seat is in, and so on until you're left with exactly one row.\n",
    "\n",
    "For example, consider just the first seven characters of FBFBBFFRLR:\n",
    "\n",
    "    Start by considering the whole range, rows 0 through 127.\n",
    "    F means to take the lower half, keeping rows 0 through 63.\n",
    "    B means to take the upper half, keeping rows 32 through 63.\n",
    "    F means to take the lower half, keeping rows 32 through 47.\n",
    "    B means to take the upper half, keeping rows 40 through 47.\n",
    "    B keeps rows 44 through 47.\n",
    "    F keeps rows 44 through 45.\n",
    "    The final F keeps the lower of the two, row 44.\n",
    "\n",
    "The last three characters will be either L or R; these specify exactly one of the 8 columns of seats on the plane (numbered 0 through 7). The same process as above proceeds again, this time with only three steps. L means to keep the lower half, while R means to keep the upper half.\n",
    "\n",
    "For example, consider just the last 3 characters of FBFBBFFRLR:\n",
    "\n",
    "    Start by considering the whole range, columns 0 through 7.\n",
    "    R means to take the upper half, keeping columns 4 through 7.\n",
    "    L means to take the lower half, keeping columns 4 through 5.\n",
    "    The final R keeps the upper of the two, column 5.\n",
    "\n",
    "So, decoding FBFBBFFRLR reveals that it is the seat at row 44, column 5.\n",
    "\n",
    "Every seat also has a unique seat ID: multiply the row by 8, then add the column. In this example, the seat has ID 44 * 8 + 5 = 357.\n",
    "\n",
    "Here are some other boarding passes:\n",
    "\n",
    "    BFFFBBFRRR: row 70, column 7, seat ID 567.\n",
    "    FFFBBBFRRR: row 14, column 7, seat ID 119.\n",
    "    BBFFBBFRLL: row 102, column 4, seat ID 820.\n",
    "\n",
    "As a sanity check, look through your list of boarding passes. What is the highest seat ID on a boarding pass?\n"
   ]
  },
  {
   "cell_type": "code",
   "execution_count": 3,
   "metadata": {},
   "outputs": [],
   "source": [
    "import pandas as pd\n",
    "import math\n",
    "import re\n",
    "file1 = open(\"input5.txt\",\"r+\")  \n",
    "text = file1.read() \n",
    "file1.close() "
   ]
  },
  {
   "cell_type": "code",
   "execution_count": 11,
   "metadata": {},
   "outputs": [],
   "source": [
    "t = text.split('\\n')\n",
    "test = ['FBFBBFFRLR', 'BFFFBBFRRR', 'FFFBBBFRRR', 'BBFFBBFRLL']\n"
   ]
  },
  {
   "cell_type": "code",
   "execution_count": 39,
   "metadata": {},
   "outputs": [],
   "source": [
    "def get_seat(s):\n",
    "    \"\"\"function to apply the algorithm to extract the row and col of a seat\"\"\"\n",
    "    low = 0\n",
    "    high = 127\n",
    "    for c in s[0:6]:\n",
    "        #print(c)\n",
    "        if c == 'F':\n",
    "            high = high - (high-low+1)/2 \n",
    "        elif c == 'B':\n",
    "            low = (high-low+1)/2 + low\n",
    "        #print(low)\n",
    "        #print(high)\n",
    "        \n",
    "    row = int(low)\n",
    "    low = 0\n",
    "    high = 7\n",
    "    for c in s[7:]:\n",
    "        #print(c)\n",
    "        if c == 'L':\n",
    "            high = high - (high-low+1)/2 \n",
    "        elif c == 'R':\n",
    "            low = (high-low+1)/2 + low\n",
    "    col = int(low)    \n",
    "    return row*8 + col"
   ]
  },
  {
   "cell_type": "code",
   "execution_count": 40,
   "metadata": {},
   "outputs": [
    {
     "name": "stdout",
     "output_type": "stream",
     "text": [
      "357\n",
      "567\n",
      "119\n",
      "820\n"
     ]
    }
   ],
   "source": [
    "for t in test:\n",
    "    print(get_seat(t))"
   ]
  },
  {
   "cell_type": "code",
   "execution_count": 41,
   "metadata": {},
   "outputs": [],
   "source": [
    "max_seat_id = 0\n",
    "for seat in t:\n",
    "    max_seat_id = max(max_seat_id, get_seat(seat))"
   ]
  },
  {
   "cell_type": "code",
   "execution_count": 42,
   "metadata": {},
   "outputs": [
    {
     "data": {
      "text/plain": [
       "512"
      ]
     },
     "execution_count": 42,
     "metadata": {},
     "output_type": "execute_result"
    }
   ],
   "source": [
    "max_seat_id"
   ]
  },
  {
   "cell_type": "code",
   "execution_count": null,
   "metadata": {},
   "outputs": [],
   "source": []
  }
 ],
 "metadata": {
  "kernelspec": {
   "display_name": "Python 3",
   "language": "python",
   "name": "python3"
  },
  "language_info": {
   "codemirror_mode": {
    "name": "ipython",
    "version": 3
   },
   "file_extension": ".py",
   "mimetype": "text/x-python",
   "name": "python",
   "nbconvert_exporter": "python",
   "pygments_lexer": "ipython3",
   "version": "3.7.2"
  }
 },
 "nbformat": 4,
 "nbformat_minor": 2
}
